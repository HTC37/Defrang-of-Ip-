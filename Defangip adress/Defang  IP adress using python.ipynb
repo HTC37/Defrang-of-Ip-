{
 "cells": [
  {
   "cell_type": "markdown",
   "metadata": {},
   "source": [
    "# Defanging Ip adress is just split and join of '.' and '[.]'"
   ]
  },
  {
   "cell_type": "code",
   "execution_count": 2,
   "metadata": {},
   "outputs": [
    {
     "name": "stdout",
     "output_type": "stream",
     "text": [
      "1[.]2[.]3[.]4\n"
     ]
    }
   ],
   "source": [
    "def ip_adress(adress):\n",
    "    new_address=''\n",
    "    split_adress=adress.split('.')\n",
    "    separator='[.]'\n",
    "    new_address=separator.join(split_adress)\n",
    "    return new_address\n",
    "ipa_adress=ip_adress('1.2.3.4')\n",
    "print(ipa_adress)"
   ]
  },
  {
   "cell_type": "code",
   "execution_count": 13,
   "metadata": {},
   "outputs": [
    {
     "name": "stdout",
     "output_type": "stream",
     "text": [
      "15[.]46[.]66[.]7[.]9[.]0[.]5\n"
     ]
    }
   ],
   "source": [
    "def ip(add):\n",
    "    new_add=''\n",
    "    spllit=add.split('.')\n",
    "    separator='[.]'\n",
    "    new_add=separator.join(spllit)\n",
    "    return new_add\n",
    "ipa=ip('15.46.66.7.9.0.5')\n",
    "print(ipa)\n",
    "  \n",
    "    "
   ]
  },
  {
   "cell_type": "code",
   "execution_count": null,
   "metadata": {},
   "outputs": [],
   "source": []
  }
 ],
 "metadata": {
  "kernelspec": {
   "display_name": "Python 3",
   "language": "python",
   "name": "python3"
  },
  "language_info": {
   "codemirror_mode": {
    "name": "ipython",
    "version": 3
   },
   "file_extension": ".py",
   "mimetype": "text/x-python",
   "name": "python",
   "nbconvert_exporter": "python",
   "pygments_lexer": "ipython3",
   "version": "3.7.4"
  }
 },
 "nbformat": 4,
 "nbformat_minor": 2
}
